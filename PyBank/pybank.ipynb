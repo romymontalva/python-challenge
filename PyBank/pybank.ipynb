{
 "cells": [
  {
   "cell_type": "code",
   "execution_count": 4,
   "id": "73028062",
   "metadata": {},
   "outputs": [
    {
     "name": "stdout",
     "output_type": "stream",
     "text": [
      "Financial Analysis\n",
      "-----------------------------\n",
      "Total Months: 86\n",
      "Total:   $22564198\n",
      "Average Change   $-8311.11\n",
      "Greatest Increase in Profits:  Aug-16  ($1862002)Greatest Decrease in Profits:  Feb-14  ($-1825558)\n"
     ]
    }
   ],
   "source": [
    "import csv\n",
    "import os\n",
    "\n",
    "file_to_load = os.path.join(\"budget_data.csv\")\n",
    "file_to_output = os.path.join(\"budget_analysis.txt\")\n",
    "\n",
    "total_months = 0\n",
    "total_net = 0\n",
    "\n",
    "net_change_list = []\n",
    "month_of_changes = []\n",
    "\n",
    "greatest = [\"\", 0]\n",
    "least = [\"\", 9999999999999999999]\n",
    "\n",
    "\n",
    "#list\n",
    "with open(file_to_load) as financial_data:\n",
    "    reader = csv.reader(financial_data)\n",
    "\n",
    "    #this up there doesnt work\n",
    "    \n",
    "    #read the header\n",
    "    header = next(reader)\n",
    "    #print(f\"Header: {header}\")\n",
    "    first_row = next(reader)\n",
    " \n",
    "    total_net += int(first_row[1])\n",
    "    previous_net = int(first_row[1])\n",
    "    \n",
    "    total_months += 1 \n",
    "    \n",
    "\n",
    "    \n",
    "    \n",
    "    for row in reader:\n",
    "        \n",
    "        #track the total\n",
    "        total_months += 1\n",
    "        total_net += int(row[1])\n",
    "        \n",
    "        \n",
    "        #track the net change\n",
    "        net_change = int(row[1]) - previous_net\n",
    "        previous_net = int(row[1])\n",
    "        net_change_list.append(net_change)\n",
    "      \n",
    "        \n",
    "        #the greatest increase\n",
    "        if(net_change > greatest[1]):\n",
    "            greatest[0] = row[0]\n",
    "            greatest[1] = net_change\n",
    "        \n",
    "        #the greatest decrease\n",
    "        if(net_change < least[1]):\n",
    "            least[0] = row[0]\n",
    "            least[1] = net_change\n",
    "        \n",
    "        \n",
    "\n",
    "\n",
    "\n",
    "net_monthly_average = sum(net_change_list)/ len(net_change_list)\n",
    "\n",
    "        \n",
    "\n",
    "        \n",
    "output = (\n",
    "    f\"Financial Analysis\\n\"\n",
    "    f\"-----------------------------\\n\"\n",
    "    f\"Total Months: {total_months}\\n\"\n",
    "    f\"Total:   ${total_net}\\n\"\n",
    "    f\"Average Change   ${net_monthly_average: .2f}\\n\"\n",
    "    f\"Greatest Increase in Profits:  {greatest[0]}  (${greatest[1]})\"\n",
    "    f\"Greatest Decrease in Profits:  {least[0]}  (${least[1]})\"\n",
    ")\n",
    "\n",
    "print(output)\n",
    "\n",
    "with open(file_to_output, \"w\") as txt_file:\n",
    "    txt_file.write(output)\n",
    "    \n",
    "    \n"
   ]
  },
  {
   "cell_type": "code",
   "execution_count": null,
   "id": "5d0b24d8",
   "metadata": {},
   "outputs": [],
   "source": [
    "\n",
    "    \n",
    "    \n"
   ]
  },
  {
   "cell_type": "code",
   "execution_count": null,
   "id": "84e0d570",
   "metadata": {},
   "outputs": [],
   "source": []
  },
  {
   "cell_type": "code",
   "execution_count": null,
   "id": "e8b08453",
   "metadata": {},
   "outputs": [],
   "source": []
  }
 ],
 "metadata": {
  "kernelspec": {
   "display_name": "Python 3 (ipykernel)",
   "language": "python",
   "name": "python3"
  },
  "language_info": {
   "codemirror_mode": {
    "name": "ipython",
    "version": 3
   },
   "file_extension": ".py",
   "mimetype": "text/x-python",
   "name": "python",
   "nbconvert_exporter": "python",
   "pygments_lexer": "ipython3",
   "version": "3.9.13"
  }
 },
 "nbformat": 4,
 "nbformat_minor": 5
}
